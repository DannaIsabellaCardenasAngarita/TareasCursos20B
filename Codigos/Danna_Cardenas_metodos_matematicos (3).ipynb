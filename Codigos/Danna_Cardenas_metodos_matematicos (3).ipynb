{
  "nbformat": 4,
  "nbformat_minor": 0,
  "metadata": {
    "colab": {
      "provenance": []
    },
    "kernelspec": {
      "name": "python3",
      "display_name": "Python 3"
    },
    "language_info": {
      "name": "python"
    }
  },
  "cells": [
    {
      "cell_type": "markdown",
      "source": [
        "Danna isabella cardenas angarita, codigo 2241361"
      ],
      "metadata": {
        "id": "HbyRcN3kuQAr"
      }
    },
    {
      "cell_type": "markdown",
      "source": [
        "**centroide de un triangulo**"
      ],
      "metadata": {
        "id": "Zn86JGaJ8HmN"
      }
    },
    {
      "cell_type": "code",
      "source": [
        "from sympy import Matrix\n",
        "\n",
        "def centroide_triangulo(v1, v2, v3):\n",
        "    return (v1 + v2 + v3) / 3\n",
        "\n",
        "if __name__ == \"__main__\":\n",
        "    A = Matrix([1, 0])\n",
        "    B = Matrix([0, 1])\n",
        "    C = Matrix([0, 0])\n",
        "\n",
        "    print(\"Centroide:\", centroide_triangulo(A, B, C))"
      ],
      "metadata": {
        "colab": {
          "base_uri": "https://localhost:8080/"
        },
        "id": "lJhK53l6cx4Z",
        "outputId": "3d88b6e2-91b5-4591-a966-526e1ba1d525"
      },
      "execution_count": null,
      "outputs": [
        {
          "output_type": "stream",
          "name": "stdout",
          "text": [
            "Centroide: Matrix([[1/3], [1/3]])\n"
          ]
        }
      ]
    },
    {
      "cell_type": "markdown",
      "source": [
        "**bibliotecas**"
      ],
      "metadata": {
        "id": "OdYGvDT98cK-"
      }
    },
    {
      "cell_type": "code",
      "source": [
        "# Operaciones básicas y símbolos\n",
        "from sympy import symbols, Function, Wild, S, N\n",
        "\n",
        "# Cálculo (derivadas, integrales, límites)\n",
        "from sympy import diff, integrate, limit, series\n",
        "\n",
        "# Álgebra lineal\n",
        "from sympy import Matrix, eye, zeros, ones, diag, GramSchmidt\n",
        "\n",
        "# Solución de ecuaciones\n",
        "from sympy import solve, solveset, nsolve, linsolve, nonlinsolve\n",
        "\n",
        "# Simplificación y manipulación de expresiones\n",
        "from sympy import simplify, expand, factor, collect, cancel, apart, trigsimp\n",
        "\n",
        "# Funciones matemáticas\n",
        "from sympy import sin, cos, tan, exp, log, sqrt, pi, E, I\n",
        "\n",
        "# Gráficos (requiere matplotlib)\n",
        "from sympy.plotting import plot, plot3d, plot_parametric\n",
        "\n",
        "# Física y unidades\n",
        "from sympy.physics.units import meter, second, kg\n",
        "from sympy.physics.vector import ReferenceFrame, dynamicsymbols\n",
        "\n",
        "# Impresión bonita\n",
        "from sympy import pprint, latex"
      ],
      "metadata": {
        "id": "qUrf4y-lu3a0"
      },
      "execution_count": null,
      "outputs": []
    },
    {
      "cell_type": "markdown",
      "source": [
        "**vectores**, ejercicio 6 de la Sección 1.2.7"
      ],
      "metadata": {
        "id": "vzgYoJEV8pvT"
      }
    },
    {
      "cell_type": "code",
      "source": [
        "from sympy.vector import *\n",
        "R = CoordSys3D('R')\n",
        "#Considere los siguientes vectores:\n",
        "if __name__ == \"__main__\":\n",
        "  a = R.i + 2*R.j + 3*R.k\n",
        "  b = 4*R.i + 5*R.j + 6*R.k\n",
        "  c = 3*R.i + 2*R.j + R.k\n",
        "  d = 6*R.i + 5*R.j + 4*R.k\n",
        "  q = -3*R.i + 6*R.j - 3*R.k\n",
        "  m = -7*R.i + 14*R.j - 7*R.k\n",
        "  n = R.i -6*R.j + 3*R.k\n",
        "#vectores base\n",
        "if __name__ == \"__main__\":\n",
        "  e1 = R.i\n",
        "  e2 = R.j\n",
        "  e3 = R.k"
      ],
      "metadata": {
        "id": "ol0Pa5odxTro"
      },
      "execution_count": null,
      "outputs": []
    },
    {
      "cell_type": "markdown",
      "source": [
        "**ahora, realizaremos algunos problemas con estos vectores**"
      ],
      "metadata": {
        "id": "NrUAgbxm7kag"
      }
    },
    {
      "cell_type": "markdown",
      "source": [
        "sumas y restas"
      ],
      "metadata": {
        "id": "jw_o23Q09JMv"
      }
    },
    {
      "cell_type": "code",
      "source": [
        "a + b + c + d"
      ],
      "metadata": {
        "colab": {
          "base_uri": "https://localhost:8080/",
          "height": 38
        },
        "id": "IXMXvUSQz6a9",
        "outputId": "7134b8db-ec2d-45f2-ab74-264736b07efb"
      },
      "execution_count": null,
      "outputs": [
        {
          "output_type": "execute_result",
          "data": {
            "text/plain": [
              "14*R.i + 14*R.j + 14*R.k"
            ],
            "text/latex": "$\\displaystyle \\left(14\\right)\\mathbf{\\hat{i}_{R}} + \\left(14\\right)\\mathbf{\\hat{j}_{R}} + \\left(14\\right)\\mathbf{\\hat{k}_{R}}$"
          },
          "metadata": {},
          "execution_count": 40
        }
      ]
    },
    {
      "cell_type": "code",
      "source": [
        "a + b - c - d"
      ],
      "metadata": {
        "colab": {
          "base_uri": "https://localhost:8080/",
          "height": 38
        },
        "id": "eVfxlabv7ENU",
        "outputId": "2ac1ff69-1b4c-43d1-ab01-5715dcd91c15"
      },
      "execution_count": null,
      "outputs": [
        {
          "output_type": "execute_result",
          "data": {
            "text/plain": [
              "(-4)*R.i + 4*R.k"
            ],
            "text/latex": "$\\displaystyle \\left(-4\\right)\\mathbf{\\hat{i}_{R}} + \\left(4\\right)\\mathbf{\\hat{k}_{R}}$"
          },
          "metadata": {},
          "execution_count": 41
        }
      ]
    },
    {
      "cell_type": "code",
      "source": [
        "a - b + c - d"
      ],
      "metadata": {
        "colab": {
          "base_uri": "https://localhost:8080/",
          "height": 38
        },
        "id": "aZVcSe9V7LIG",
        "outputId": "5dd735f0-6670-47e7-f039-4428600f753f"
      },
      "execution_count": null,
      "outputs": [
        {
          "output_type": "execute_result",
          "data": {
            "text/plain": [
              "(-6)*R.i + (-6)*R.j + (-6)*R.k"
            ],
            "text/latex": "$\\displaystyle \\left(-6\\right)\\mathbf{\\hat{i}_{R}} + \\left(-6\\right)\\mathbf{\\hat{j}_{R}} + \\left(-6\\right)\\mathbf{\\hat{k}_{R}}$"
          },
          "metadata": {},
          "execution_count": 42
        }
      ]
    },
    {
      "cell_type": "code",
      "source": [
        "-a + b - c + d"
      ],
      "metadata": {
        "colab": {
          "base_uri": "https://localhost:8080/",
          "height": 38
        },
        "id": "NLb2dZhk7WSW",
        "outputId": "7906615a-5c65-4580-f0f4-2f58e00aaf63"
      },
      "execution_count": null,
      "outputs": [
        {
          "output_type": "execute_result",
          "data": {
            "text/plain": [
              "6*R.i + 6*R.j + 6*R.k"
            ],
            "text/latex": "$\\displaystyle \\left(6\\right)\\mathbf{\\hat{i}_{R}} + \\left(6\\right)\\mathbf{\\hat{j}_{R}} + \\left(6\\right)\\mathbf{\\hat{k}_{R}}$"
          },
          "metadata": {},
          "execution_count": 43
        }
      ]
    },
    {
      "cell_type": "markdown",
      "source": [
        "El ángulo entre los vectores a, b, c, d y los vectores base eˆ1, eˆ2, eˆ3"
      ],
      "metadata": {
        "id": "UR1oF28L9QvS"
      }
    },
    {
      "cell_type": "code",
      "source": [
        "(a.dot(e1)/(a.magnitude()*e1.magnitude())).round(3)"
      ],
      "metadata": {
        "colab": {
          "base_uri": "https://localhost:8080/",
          "height": 37
        },
        "id": "n6it1fky3F0F",
        "outputId": "29d21cba-c93f-4c7b-fb47-835f41f9b0fa"
      },
      "execution_count": null,
      "outputs": [
        {
          "output_type": "execute_result",
          "data": {
            "text/plain": [
              "0.267"
            ],
            "text/latex": "$\\displaystyle 0.267$"
          },
          "metadata": {},
          "execution_count": 28
        }
      ]
    },
    {
      "cell_type": "code",
      "source": [
        "(c.dot(e1)/(c.magnitude()*e1.magnitude())).round(3)"
      ],
      "metadata": {
        "colab": {
          "base_uri": "https://localhost:8080/",
          "height": 37
        },
        "id": "adLvJLGy5ZrX",
        "outputId": "4fdc0d56-29eb-4563-a0ce-049e3d137d34"
      },
      "execution_count": null,
      "outputs": [
        {
          "output_type": "execute_result",
          "data": {
            "text/plain": [
              "0.802"
            ],
            "text/latex": "$\\displaystyle 0.802$"
          },
          "metadata": {},
          "execution_count": 29
        }
      ]
    },
    {
      "cell_type": "code",
      "source": [
        "(a.dot(e2)/(a.magnitude()*e2.magnitude())).round(3)"
      ],
      "metadata": {
        "colab": {
          "base_uri": "https://localhost:8080/",
          "height": 37
        },
        "id": "1qeSD6ez5Z3E",
        "outputId": "7e8cc0b0-8b67-480f-8f87-2a5fff75d704"
      },
      "execution_count": null,
      "outputs": [
        {
          "output_type": "execute_result",
          "data": {
            "text/plain": [
              "0.535"
            ],
            "text/latex": "$\\displaystyle 0.535$"
          },
          "metadata": {},
          "execution_count": 30
        }
      ]
    },
    {
      "cell_type": "code",
      "source": [
        "(a.dot(e3)/(a.magnitude()*e3.magnitude())).round(3)"
      ],
      "metadata": {
        "colab": {
          "base_uri": "https://localhost:8080/",
          "height": 37
        },
        "id": "XvHi9D025aAx",
        "outputId": "d493ca0f-cb69-4d0c-9c69-3d7360a6bc1b"
      },
      "execution_count": null,
      "outputs": [
        {
          "output_type": "execute_result",
          "data": {
            "text/plain": [
              "0.802"
            ],
            "text/latex": "$\\displaystyle 0.802$"
          },
          "metadata": {},
          "execution_count": 31
        }
      ]
    },
    {
      "cell_type": "code",
      "source": [
        "(b.dot(e1)/(b.magnitude()*e1.magnitude())).round(3)"
      ],
      "metadata": {
        "colab": {
          "base_uri": "https://localhost:8080/",
          "height": 37
        },
        "id": "dLdYZbZA5aIb",
        "outputId": "2fe1529c-ad2d-400e-b69b-0d42443c14c7"
      },
      "execution_count": null,
      "outputs": [
        {
          "output_type": "execute_result",
          "data": {
            "text/plain": [
              "0.456"
            ],
            "text/latex": "$\\displaystyle 0.456$"
          },
          "metadata": {},
          "execution_count": 32
        }
      ]
    },
    {
      "cell_type": "code",
      "source": [
        "(b.dot(e2)/(b.magnitude()*e2.magnitude())).round(3)"
      ],
      "metadata": {
        "colab": {
          "base_uri": "https://localhost:8080/",
          "height": 37
        },
        "id": "lN8oPat05aN5",
        "outputId": "085e6d17-0470-478c-9764-0cf257896b1e"
      },
      "execution_count": null,
      "outputs": [
        {
          "output_type": "execute_result",
          "data": {
            "text/plain": [
              "0.570"
            ],
            "text/latex": "$\\displaystyle 0.57$"
          },
          "metadata": {},
          "execution_count": 33
        }
      ]
    },
    {
      "cell_type": "code",
      "source": [
        "(b.dot(e3)/(b.magnitude()*e3.magnitude())).round(3)"
      ],
      "metadata": {
        "colab": {
          "base_uri": "https://localhost:8080/",
          "height": 37
        },
        "id": "1au2QX625aus",
        "outputId": "6f483d33-20ec-4e4f-9829-0a186be83eac"
      },
      "execution_count": null,
      "outputs": [
        {
          "output_type": "execute_result",
          "data": {
            "text/plain": [
              "0.684"
            ],
            "text/latex": "$\\displaystyle 0.684$"
          },
          "metadata": {},
          "execution_count": 34
        }
      ]
    },
    {
      "cell_type": "code",
      "source": [
        "(c.dot(e2)/(c.magnitude()*e2.magnitude())).round(3)"
      ],
      "metadata": {
        "colab": {
          "base_uri": "https://localhost:8080/",
          "height": 37
        },
        "id": "npmZlEEN5bUo",
        "outputId": "8eac86b3-99fa-48a2-e183-8dd39fd92a7a"
      },
      "execution_count": null,
      "outputs": [
        {
          "output_type": "execute_result",
          "data": {
            "text/plain": [
              "0.535"
            ],
            "text/latex": "$\\displaystyle 0.535$"
          },
          "metadata": {},
          "execution_count": 35
        }
      ]
    },
    {
      "cell_type": "code",
      "source": [
        "(c.dot(e3)/(c.magnitude()*e3.magnitude())).round(3)"
      ],
      "metadata": {
        "colab": {
          "base_uri": "https://localhost:8080/",
          "height": 37
        },
        "id": "ClqwaQlw6FPe",
        "outputId": "216891f9-a9d6-4a91-f4a6-65ac6d2b3ce6"
      },
      "execution_count": null,
      "outputs": [
        {
          "output_type": "execute_result",
          "data": {
            "text/plain": [
              "0.267"
            ],
            "text/latex": "$\\displaystyle 0.267$"
          },
          "metadata": {},
          "execution_count": 36
        }
      ]
    },
    {
      "cell_type": "code",
      "source": [
        "(d.dot(e1)/(d.magnitude()*e1.magnitude())).round(3)"
      ],
      "metadata": {
        "colab": {
          "base_uri": "https://localhost:8080/",
          "height": 37
        },
        "id": "ivwD9dwX6FaQ",
        "outputId": "5f9bd547-dd62-4c61-cdc2-153bd9cb91df"
      },
      "execution_count": null,
      "outputs": [
        {
          "output_type": "execute_result",
          "data": {
            "text/plain": [
              "0.684"
            ],
            "text/latex": "$\\displaystyle 0.684$"
          },
          "metadata": {},
          "execution_count": 37
        }
      ]
    },
    {
      "cell_type": "code",
      "source": [
        "(d.dot(e2)/(d.magnitude()*e2.magnitude())).round(3)"
      ],
      "metadata": {
        "colab": {
          "base_uri": "https://localhost:8080/",
          "height": 37
        },
        "id": "q04piCbs6Fsh",
        "outputId": "c3bab2bf-8223-4481-8422-363eeec64449"
      },
      "execution_count": null,
      "outputs": [
        {
          "output_type": "execute_result",
          "data": {
            "text/plain": [
              "0.570"
            ],
            "text/latex": "$\\displaystyle 0.57$"
          },
          "metadata": {},
          "execution_count": 38
        }
      ]
    },
    {
      "cell_type": "code",
      "source": [
        "(d.dot(e3)/(d.magnitude()*e3.magnitude())).round(3)"
      ],
      "metadata": {
        "colab": {
          "base_uri": "https://localhost:8080/",
          "height": 37
        },
        "id": "7xLZLqqy6F86",
        "outputId": "b40b5903-fad6-479c-9def-2ffd182f9bde"
      },
      "execution_count": null,
      "outputs": [
        {
          "output_type": "execute_result",
          "data": {
            "text/plain": [
              "0.456"
            ],
            "text/latex": "$\\displaystyle 0.456$"
          },
          "metadata": {},
          "execution_count": 39
        }
      ]
    },
    {
      "cell_type": "markdown",
      "source": [
        "La magnitud de los vectores a, b, c, d"
      ],
      "metadata": {
        "id": "gi9znDdg96Na"
      }
    },
    {
      "cell_type": "code",
      "source": [
        "sqrt(a.dot(a))"
      ],
      "metadata": {
        "colab": {
          "base_uri": "https://localhost:8080/",
          "height": 38
        },
        "id": "6FI9zOgeRLA5",
        "outputId": "c41ef925-4dc7-443b-e8a8-c40e85cfde4f"
      },
      "execution_count": null,
      "outputs": [
        {
          "output_type": "execute_result",
          "data": {
            "text/plain": [
              "sqrt(14)"
            ],
            "text/latex": "$\\displaystyle \\sqrt{14}$"
          },
          "metadata": {},
          "execution_count": 44
        }
      ]
    },
    {
      "cell_type": "code",
      "source": [
        "sqrt(b.dot(b))"
      ],
      "metadata": {
        "colab": {
          "base_uri": "https://localhost:8080/",
          "height": 38
        },
        "id": "PBIy3rZtRYtl",
        "outputId": "daec711e-c26f-4cc2-fcc4-3f4df90ed4bf"
      },
      "execution_count": null,
      "outputs": [
        {
          "output_type": "execute_result",
          "data": {
            "text/plain": [
              "sqrt(77)"
            ],
            "text/latex": "$\\displaystyle \\sqrt{77}$"
          },
          "metadata": {},
          "execution_count": 45
        }
      ]
    },
    {
      "cell_type": "code",
      "source": [
        "sqrt(c.dot(c))"
      ],
      "metadata": {
        "colab": {
          "base_uri": "https://localhost:8080/",
          "height": 38
        },
        "id": "UfwH2ZlDRY4s",
        "outputId": "53b1f1f3-8b75-4115-94fc-91f9f5855f7a"
      },
      "execution_count": null,
      "outputs": [
        {
          "output_type": "execute_result",
          "data": {
            "text/plain": [
              "sqrt(14)"
            ],
            "text/latex": "$\\displaystyle \\sqrt{14}$"
          },
          "metadata": {},
          "execution_count": 46
        }
      ]
    },
    {
      "cell_type": "code",
      "source": [
        "sqrt(d.dot(d))"
      ],
      "metadata": {
        "colab": {
          "base_uri": "https://localhost:8080/",
          "height": 38
        },
        "id": "OSdZNEQbRZOV",
        "outputId": "fe98cf6c-89a2-467b-f5f4-10672ccc610f"
      },
      "execution_count": null,
      "outputs": [
        {
          "output_type": "execute_result",
          "data": {
            "text/plain": [
              "sqrt(77)"
            ],
            "text/latex": "$\\displaystyle \\sqrt{77}$"
          },
          "metadata": {},
          "execution_count": 47
        }
      ]
    },
    {
      "cell_type": "markdown",
      "source": [
        "El ángulo entre a y b y entre c y d."
      ],
      "metadata": {
        "id": "rJG8JKxgSaHT"
      }
    },
    {
      "cell_type": "code",
      "source": [
        "(a.dot(b)/(a.magnitude()*b.magnitude())).round(3)"
      ],
      "metadata": {
        "colab": {
          "base_uri": "https://localhost:8080/",
          "height": 37
        },
        "id": "RgI2EONcSdzh",
        "outputId": "51918094-c8b4-4f01-d3e9-7d783b76b5a3"
      },
      "execution_count": null,
      "outputs": [
        {
          "output_type": "execute_result",
          "data": {
            "text/plain": [
              "0.975"
            ],
            "text/latex": "$\\displaystyle 0.975$"
          },
          "metadata": {},
          "execution_count": 48
        }
      ]
    },
    {
      "cell_type": "code",
      "source": [
        "(d.dot(c)/(d.magnitude()*c.magnitude())).round(3)"
      ],
      "metadata": {
        "colab": {
          "base_uri": "https://localhost:8080/",
          "height": 37
        },
        "id": "9VBI1gxbS5XT",
        "outputId": "3754e6f0-ad97-470e-ee3c-df10eca2eaa5"
      },
      "execution_count": null,
      "outputs": [
        {
          "output_type": "execute_result",
          "data": {
            "text/plain": [
              "0.975"
            ],
            "text/latex": "$\\displaystyle 0.975$"
          },
          "metadata": {},
          "execution_count": 49
        }
      ]
    },
    {
      "cell_type": "markdown",
      "source": [
        "proyeccion de a sobre b"
      ],
      "metadata": {
        "id": "AYWlSEiCTvDj"
      }
    },
    {
      "cell_type": "code",
      "source": [
        "(a.dot(b) / b.dot(b)) * b"
      ],
      "metadata": {
        "colab": {
          "base_uri": "https://localhost:8080/",
          "height": 58
        },
        "id": "JXfzVcvfVCPD",
        "outputId": "e4621b54-4080-4fab-adc2-636c0659b5ef"
      },
      "execution_count": null,
      "outputs": [
        {
          "output_type": "execute_result",
          "data": {
            "text/plain": [
              "128/77*R.i + 160/77*R.j + 192/77*R.k"
            ],
            "text/latex": "$\\displaystyle \\left(\\frac{128}{77}\\right)\\mathbf{\\hat{i}_{R}} + \\left(\\frac{160}{77}\\right)\\mathbf{\\hat{j}_{R}} + \\left(\\frac{192}{77}\\right)\\mathbf{\\hat{k}_{R}}$"
          },
          "metadata": {},
          "execution_count": 50
        }
      ]
    },
    {
      "cell_type": "markdown",
      "source": [
        "Encuentre (a + b) · (c + d)"
      ],
      "metadata": {
        "id": "PmDb34_PVX5t"
      }
    },
    {
      "cell_type": "code",
      "source": [
        "(a + b) .dot(c + d)\n"
      ],
      "metadata": {
        "colab": {
          "base_uri": "https://localhost:8080/",
          "height": 37
        },
        "id": "_gwoTNJPVYbs",
        "outputId": "32f3c99b-7a2b-4e2f-c95f-55c11334db7a"
      },
      "execution_count": null,
      "outputs": [
        {
          "output_type": "execute_result",
          "data": {
            "text/plain": [
              "139"
            ],
            "text/latex": "$\\displaystyle 139$"
          },
          "metadata": {},
          "execution_count": 52
        }
      ]
    },
    {
      "cell_type": "markdown",
      "source": [
        "Los productos a × b, b × c, c × d y los ángulos que estos forman con d"
      ],
      "metadata": {
        "id": "R_x82TmmV0_X"
      }
    },
    {
      "cell_type": "code",
      "source": [
        "a.cross(b)"
      ],
      "metadata": {
        "colab": {
          "base_uri": "https://localhost:8080/",
          "height": 38
        },
        "id": "QHoAUTA_V2fD",
        "outputId": "fd9333db-b9e1-40f6-fed8-5db8984a2e37"
      },
      "execution_count": null,
      "outputs": [
        {
          "output_type": "execute_result",
          "data": {
            "text/plain": [
              "(-3)*R.i + 6*R.j + (-3)*R.k"
            ],
            "text/latex": "$\\displaystyle \\left(-3\\right)\\mathbf{\\hat{i}_{R}} + \\left(6\\right)\\mathbf{\\hat{j}_{R}} + \\left(-3\\right)\\mathbf{\\hat{k}_{R}}$"
          },
          "metadata": {},
          "execution_count": 54
        }
      ]
    },
    {
      "cell_type": "code",
      "source": [
        "b.cross(c)"
      ],
      "metadata": {
        "colab": {
          "base_uri": "https://localhost:8080/",
          "height": 38
        },
        "id": "gACTyvvDV_yW",
        "outputId": "56079d3f-8c03-4254-8de3-364a46c72ac5"
      },
      "execution_count": null,
      "outputs": [
        {
          "output_type": "execute_result",
          "data": {
            "text/plain": [
              "(-7)*R.i + 14*R.j + (-7)*R.k"
            ],
            "text/latex": "$\\displaystyle \\left(-7\\right)\\mathbf{\\hat{i}_{R}} + \\left(14\\right)\\mathbf{\\hat{j}_{R}} + \\left(-7\\right)\\mathbf{\\hat{k}_{R}}$"
          },
          "metadata": {},
          "execution_count": 53
        }
      ]
    },
    {
      "cell_type": "code",
      "source": [
        "c.cross(d)"
      ],
      "metadata": {
        "colab": {
          "base_uri": "https://localhost:8080/",
          "height": 38
        },
        "id": "Ln8IqYSaWCBu",
        "outputId": "a3085ad2-50a1-4626-ade7-a16e04d8ac4a"
      },
      "execution_count": null,
      "outputs": [
        {
          "output_type": "execute_result",
          "data": {
            "text/plain": [
              "3*R.i + (-6)*R.j + 3*R.k"
            ],
            "text/latex": "$\\displaystyle \\left(3\\right)\\mathbf{\\hat{i}_{R}} + \\left(-6\\right)\\mathbf{\\hat{j}_{R}} + \\left(3\\right)\\mathbf{\\hat{k}_{R}}$"
          },
          "metadata": {},
          "execution_count": 55
        }
      ]
    },
    {
      "cell_type": "code",
      "source": [
        "\n",
        " (d.dot(q)/(d.magnitude()*q.magnitude())).round(3)"
      ],
      "metadata": {
        "colab": {
          "base_uri": "https://localhost:8080/",
          "height": 37
        },
        "id": "EsZdqGodZb-5",
        "outputId": "aa7a846d-8466-4c70-a478-31d4d7dbe1fe"
      },
      "execution_count": null,
      "outputs": [
        {
          "output_type": "execute_result",
          "data": {
            "text/plain": [
              "0"
            ],
            "text/latex": "$\\displaystyle 0$"
          },
          "metadata": {},
          "execution_count": 62
        }
      ]
    },
    {
      "cell_type": "code",
      "source": [
        "\n",
        " (d.dot(m)/(d.magnitude()*m.magnitude())).round(3)"
      ],
      "metadata": {
        "colab": {
          "base_uri": "https://localhost:8080/",
          "height": 37
        },
        "id": "idLoNjvNZcmA",
        "outputId": "04dc0302-7aad-4ea8-b62f-4077449281f6"
      },
      "execution_count": null,
      "outputs": [
        {
          "output_type": "execute_result",
          "data": {
            "text/plain": [
              "0"
            ],
            "text/latex": "$\\displaystyle 0$"
          },
          "metadata": {},
          "execution_count": 60
        }
      ]
    },
    {
      "cell_type": "code",
      "source": [
        "\n",
        " (d.dot(n)/(d.magnitude()*n.magnitude())).round(3)"
      ],
      "metadata": {
        "colab": {
          "base_uri": "https://localhost:8080/",
          "height": 37
        },
        "id": "WhbA3m24ZdAW",
        "outputId": "0ca10754-13c0-473e-9a72-781d88bdec19"
      },
      "execution_count": null,
      "outputs": [
        {
          "output_type": "execute_result",
          "data": {
            "text/plain": [
              "-0.202"
            ],
            "text/latex": "$\\displaystyle -0.202$"
          },
          "metadata": {},
          "execution_count": 61
        }
      ]
    },
    {
      "cell_type": "markdown",
      "source": [
        "c · (a × b)"
      ],
      "metadata": {
        "id": "x6WImIn4bTht"
      }
    },
    {
      "cell_type": "code",
      "source": [
        "a.cross(b).dot(c)"
      ],
      "metadata": {
        "colab": {
          "base_uri": "https://localhost:8080/",
          "height": 37
        },
        "id": "yltgZgnbbUnN",
        "outputId": "40335ba5-56f3-4065-ed2d-c2f7d1b46fed"
      },
      "execution_count": null,
      "outputs": [
        {
          "output_type": "execute_result",
          "data": {
            "text/plain": [
              "0"
            ],
            "text/latex": "$\\displaystyle 0$"
          },
          "metadata": {},
          "execution_count": 65
        }
      ]
    },
    {
      "cell_type": "markdown",
      "source": [
        "**ejercicio 13**"
      ],
      "metadata": {
        "id": "oNsyYXQA1kod"
      }
    },
    {
      "cell_type": "code",
      "source": [
        "from sympy import *\n",
        "from sympy.vector import CoordSys3D\n",
        "\n",
        "R = CoordSys3D('R')\n",
        "θ, r = symbols('θ r')\n",
        "dr, dθ = symbols('dr dθ')\n",
        "e_r = symbols('e_r')\n",
        "e_θ = symbols('e_θ')\n",
        "#bases en coordenadas polares\n",
        "e_r = cos(θ)*R.i + sin(θ)*R.j\n",
        "e_θ = -sin(θ)*R.i + cos(θ)*R.j\n",
        "#dr\n",
        "dr = dr*e_r + r*dθ*e_θ\n",
        "# Campo vectorial en polares con r constante\n",
        "F = (-sin(θ)/r)*R.i + (cos(θ)/r)*R.j\n",
        "a = r*dθ * (-sin(θ)*R.i + cos(θ)*R.j)\n",
        "# Producto punto F·dr\n",
        "b = ((-sin(θ)/r)*R.i + (cos(θ)/r)*R.j).dot(a)\n",
        "# Integrales (trabajo en contra)\n",
        "W_ccw = -integrate(b, (θ, 0, pi))   # antihorario\n",
        "W_cw  = -integrate(b, (θ, 0, -pi))  # horario\n",
        "\n",
        "print(W_ccw, W_cw)"
      ],
      "metadata": {
        "colab": {
          "base_uri": "https://localhost:8080/"
        },
        "id": "xnUNrjm41plE",
        "outputId": "8a59f784-3fa5-46ba-f77f-1b0015eae933"
      },
      "execution_count": 6,
      "outputs": [
        {
          "output_type": "stream",
          "name": "stdout",
          "text": [
            "-pi*dθ pi*dθ\n"
          ]
        }
      ]
    }
  ]
}